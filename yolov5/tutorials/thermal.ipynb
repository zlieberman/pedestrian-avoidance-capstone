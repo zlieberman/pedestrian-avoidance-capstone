{
 "cells": [
  {
   "cell_type": "code",
   "execution_count": 1,
   "id": "4a9e8f47-9cbf-4463-bc36-c1adf764abf9",
   "metadata": {},
   "outputs": [],
   "source": [
    "# Get imports to work\n",
    "import os\n",
    "import sys\n",
    "module_path = os.path.abspath(os.path.join('..'))\n",
    "if module_path not in sys.path:\n",
    "    sys.path.append(module_path)"
   ]
  },
  {
   "cell_type": "code",
   "execution_count": 2,
   "id": "494bebf3-0471-4d5c-9199-f82ecb1574cc",
   "metadata": {},
   "outputs": [],
   "source": [
    "from python_scripts.dataloader import DataLoader"
   ]
  },
  {
   "cell_type": "code",
   "execution_count": 3,
   "id": "b39eb6b6-0752-4034-a1b5-c2ede2569418",
   "metadata": {},
   "outputs": [
    {
     "name": "stdout",
     "output_type": "stream",
     "text": [
      "Already loaded: 26635 train, 1319 val,  1320 test\n"
     ]
    }
   ],
   "source": [
    "loader = DataLoader('../yolov3/thermal', hdf5files='../../data_nas1/dronedb/data/*Thermal*processed.hdf5', \n",
    "                    labels_path='../dataset_zip_files/labels/labels_05_13_20_thermal/',\n",
    "                    username='bodmer.d@northeastern.edu', password='x2HI70yuo900')"
   ]
  },
  {
   "cell_type": "code",
   "execution_count": null,
   "id": "3bdeb53b-d6d3-4254-b853-be2fa8a90f44",
   "metadata": {},
   "outputs": [],
   "source": [
    "loader.save_from_labels()"
   ]
  },
  {
   "cell_type": "code",
   "execution_count": null,
   "id": "ed3cc330-ec1e-4f45-ab62-0ae2bd379d46",
   "metadata": {},
   "outputs": [],
   "source": [
    "loader.save_from_hdf5()"
   ]
  },
  {
   "cell_type": "code",
   "execution_count": null,
   "id": "fc5b004f-e3d6-46d5-ace0-c4a0eefbf654",
   "metadata": {},
   "outputs": [],
   "source": []
  }
 ],
 "metadata": {
  "kernelspec": {
   "display_name": "Python 3 (ipykernel)",
   "language": "python",
   "name": "python3"
  },
  "language_info": {
   "codemirror_mode": {
    "name": "ipython",
    "version": 3
   },
   "file_extension": ".py",
   "mimetype": "text/x-python",
   "name": "python",
   "nbconvert_exporter": "python",
   "pygments_lexer": "ipython3",
   "version": "3.8.10"
  }
 },
 "nbformat": 4,
 "nbformat_minor": 5
}
