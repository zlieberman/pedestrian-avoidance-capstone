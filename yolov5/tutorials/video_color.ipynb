{
 "cells": [
  {
   "cell_type": "markdown",
   "id": "04c1dbe4-396f-4d87-b467-2a501ddda682",
   "metadata": {},
   "source": [
    "# Video Color Data\n",
    "This notebook provides live demonstrations of how to use the Data Loader to download video color data and setup datasets."
   ]
  },
  {
   "cell_type": "code",
   "execution_count": 1,
   "id": "6bf3738b-cd56-4ff0-964f-be9e02ed8d7b",
   "metadata": {},
   "outputs": [],
   "source": [
    "# Get imports to work\n",
    "import os\n",
    "import sys\n",
    "module_path = os.path.abspath(os.path.join('..'))\n",
    "if module_path not in sys.path:\n",
    "    sys.path.append(module_path)"
   ]
  },
  {
   "cell_type": "code",
   "execution_count": 2,
   "id": "51795859-edad-47ef-840e-0b98cb5f6979",
   "metadata": {},
   "outputs": [],
   "source": [
    "from python_scripts.dataloader import DataLoader"
   ]
  },
  {
   "cell_type": "markdown",
   "id": "8a14bb2d-b742-41d3-8fef-9ddc07a27267",
   "metadata": {},
   "source": [
    "We need to extract the labels from the `labels.zip` file:"
   ]
  },
  {
   "cell_type": "code",
   "execution_count": 4,
   "id": "16300924-b4bb-42ae-8172-4f04378e0be4",
   "metadata": {},
   "outputs": [],
   "source": [
    "import zipfile\n",
    "\n",
    "with zipfile.ZipFile('../dataset_zip_files/labels.zip') as f:\n",
    "    f.extractall('../dataset_zip_files/labels/')"
   ]
  },
  {
   "cell_type": "markdown",
   "id": "2b67b0dc-2413-4b94-b31d-2c6284fceef2",
   "metadata": {},
   "source": [
    "Creating the loader object:"
   ]
  },
  {
   "cell_type": "code",
   "execution_count": 3,
   "id": "0f0a36d0-63e0-4a68-b1de-1c9306a68e6f",
   "metadata": {},
   "outputs": [
    {
     "name": "stdout",
     "output_type": "stream",
     "text": [
      "Already loaded: 14866 train, 4956 val,  4956 test\n"
     ]
    }
   ],
   "source": [
    "loader = DataLoader('../yolov3/videocolor', hdf5files='../../data_nas1/dronedb/data/*VideoColor*processed.hdf5', \n",
    "                    json_path=r'\\\\192.168.152.34/DroneData/MatrixSpaceLabeled/05_08_20/DJI_Matice_100/2020-05-08-12-41-04-DM-Color_export.json',\n",
    "                    labels_path='../dataset_zip_files/labels/labels_05_13_20_color/',\n",
    "                    username='username', password='password')"
   ]
  },
  {
   "cell_type": "code",
   "execution_count": 10,
   "id": "8d5548cc-d752-400e-8c40-9a7ca6cd42d7",
   "metadata": {},
   "outputs": [
    {
     "name": "stdout",
     "output_type": "stream",
     "text": [
      "7051 labels found\n"
     ]
    },
    {
     "name": "stderr",
     "output_type": "stream",
     "text": [
      "Searching subdirectory: 2020-05-07-20-29-09_18: 100%|██████████| 39/39 [02:45<00:00,  4.24s/it]\n"
     ]
    },
    {
     "name": "stdout",
     "output_type": "stream",
     "text": [
      "loaded 7051 images from labels file\n",
      "shuffling 7050 images\n"
     ]
    }
   ],
   "source": [
    "loader.save_from_labels()"
   ]
  },
  {
   "cell_type": "code",
   "execution_count": 5,
   "id": "ec66fd1e-bc00-4d58-85a4-a3ce4940a43d",
   "metadata": {},
   "outputs": [
    {
     "name": "stdout",
     "output_type": "stream",
     "text": [
      "['../../data_nas1/dronedb/data/DJI-Matrice-100_VideoColor_11-02-2020_11-AM_processed.hdf5', '3955:3955', '0\\n']\n",
      "['../../data_nas1/dronedb/data/DJI-Matrice-100_VideoColor_11-19-2020_10-AM_processed.hdf5', '4877:4877', '1\\n']\n",
      "['../../data_nas1/dronedb/data/DJI-Matrice-100_VideoColor_11-17-2020_12-PM_processed.hdf5', '5252:5252', '2\\n']\n",
      "['../../data_nas1/dronedb/data/Autel-EVO-II_VideoColor_11-17-2020_12-PM_processed.hdf5', '3649:3649', '3\\n']\n",
      "loaded 3649 images from hdf5 file\n",
      "shuffling 24778 images\n"
     ]
    }
   ],
   "source": [
    "loader.save_from_hdf5()"
   ]
  },
  {
   "cell_type": "code",
   "execution_count": null,
   "id": "c7297d06-6c00-476b-83b5-0782341857ae",
   "metadata": {},
   "outputs": [],
   "source": [
    "loader.save_from_json()"
   ]
  },
  {
   "cell_type": "code",
   "execution_count": null,
   "id": "ef0bc9ad-e1b4-4ebc-b654-44ccbc2b679a",
   "metadata": {},
   "outputs": [],
   "source": [
    "loader.clear_dir()"
   ]
  },
  {
   "cell_type": "code",
   "execution_count": null,
   "id": "aafa438d-e6c7-4ad1-8bf1-a86d46ecadff",
   "metadata": {},
   "outputs": [],
   "source": [
    "import glob\n",
    "for img in glob.glob('../yolov3/videocolor/images/*.jpg'):\n",
    "    img = cv2.imread(img)\n",
    "    "
   ]
  },
  {
   "cell_type": "code",
   "execution_count": null,
   "id": "8909350a-2e3e-4c66-8763-1bde9082a1f3",
   "metadata": {},
   "outputs": [],
   "source": [
    "loader.write_videos(200, 'video.mp4')"
   ]
  }
 ],
 "metadata": {
  "kernelspec": {
   "display_name": "Python 3 (ipykernel)",
   "language": "python",
   "name": "python3"
  },
  "language_info": {
   "codemirror_mode": {
    "name": "ipython",
    "version": 3
   },
   "file_extension": ".py",
   "mimetype": "text/x-python",
   "name": "python",
   "nbconvert_exporter": "python",
   "pygments_lexer": "ipython3",
   "version": "3.8.10"
  }
 },
 "nbformat": 4,
 "nbformat_minor": 5
}
