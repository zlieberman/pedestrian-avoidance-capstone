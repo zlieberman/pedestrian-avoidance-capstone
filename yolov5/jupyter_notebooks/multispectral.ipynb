{
 "cells": [
  {
   "cell_type": "code",
   "execution_count": null,
   "id": "entertaining-assembly",
   "metadata": {},
   "outputs": [],
   "source": []
  },
  {
   "cell_type": "code",
   "execution_count": 21,
   "id": "committed-forest",
   "metadata": {},
   "outputs": [],
   "source": [
    "import smbclient\n",
    "import json\n",
    "import cv2\n",
    "from pathlib import Path\n",
    "import numpy as np\n",
    "import zipfile\n",
    "\n",
    "def write_to_YOLO(dataset_folder, labels_folder, img_url, val=False, test=False):\n",
    "    img_name = Path(img_url).name\n",
    "\n",
    "    with smbclient.open_file(img_url, 'rb') as f:\n",
    "        arr = np.asarray(bytearray(f.read()), dtype=np.uint8)\n",
    "        image = cv2.imdecode(arr, -1)\n",
    "        (h, w) = image.shape[:2]\n",
    "        image = cv2.resize(image, (256, 256), interpolation=cv2.INTER_AREA)\n",
    "\n",
    "    if val:\n",
    "        with open(labels_folder + img_name.replace('.tiff', '.txt'), 'r') as fd:\n",
    "            data = fd.read()\n",
    "            x,y,width,height = [float(i) for i in data.strip('\\n').strip(' ').split(' ') if i.isdigit()]\n",
    "\n",
    "            x_center = (x + (width / 2 )) / w\n",
    "            y_center = (y + (height / 2)) / h\n",
    "            width = width / w\n",
    "            height = height / h\n",
    "            klass = 0\n",
    "            with open(dataset_folder + '/labels/val/' + img_name.replace('.tiff', '.txt'), 'w+') as f:\n",
    "                f.write(' '.join([str(i) for i in [klass, x_center, y_center, width, height]]))\n",
    "        # save the images\n",
    "        cv2.imwrite(dataset_folder + '/images/val/' + img_name, image)\n",
    "\n",
    "    else:\n",
    "        with open(labels_folder + img_name.replace('.tiff', '.txt'), 'r') as fd:\n",
    "            data = fd.read()\n",
    "            x,y,width,height = [float(i) for i in data.strip('\\n').strip(' ').split(' ') if i.isdigit()]\n",
    "\n",
    "            x_center = (x + (width / 2 )) / w\n",
    "            y_center = (y + (height / 2)) / h\n",
    "            width = width / w\n",
    "            height = height / h\n",
    "            klass = 0\n",
    "            with open(dataset_folder + '/labels/train/' + img_name.replace('.tiff', '.txt'), 'w+') as f:\n",
    "                f.write(' '.join([str(i) for i in [klass, x_center, y_center, width, height]]))\n",
    "        # save the images\n",
    "        cv2.imwrite(dataset_folder + '/images/train/' + img_name, image)\n",
    "        \n",
    "\n",
    "def mount_smb(username, password, smb_path, dataset_folder, labels_folder, train_imgs, val_imgs):\n",
    "    # Optional - specify the default credentials to use on the global config object\n",
    "    smbclient.ClientConfig(username=username, password=password)\n",
    "\n",
    "    # Optional - register the credentials with a server (overrides ClientConfig for that server)\n",
    "    smbclient.register_session(\"192.168.152.34\", username=username, password=password)\n",
    "            \n",
    "    train_count = 0\n",
    "    val_count = 0\n",
    "    for root, dirs, files in smbclient.walk(r'\\\\192.168.152.34/DroneData/MatrixSpaceLabeled/05_13_20/Yuneec_Typhoon/2020-05-07-20-27-06/', 'r'):\n",
    "        break\n",
    "    for di in dirs:\n",
    "        for _, _, files in smbclient.walk(r'\\\\192.168.152.34/DroneData/MatrixSpaceLabeled/05_13_20/Yuneec_Typhoon/2020-05-07-20-27-06/' + di + smb_path):\n",
    "            break\n",
    "        for file in files:\n",
    "\n",
    "            if file.replace('.tiff', '.txt') in train_imgs:\n",
    "                train_count += 1\n",
    "                write_to_YOLO(dataset_folder, labels_folder, r'\\\\192.168.152.34/DroneData/MatrixSpaceLabeled/05_13_20/Yuneec_Typhoon/2020-05-07-20-27-06/' + di + smb_path + file)\n",
    "            elif file.replace('.tiff', '.txt') in val_imgs:\n",
    "                val_count += 1\n",
    "                write_to_YOLO(dataset_folder, labels_folder, r'\\\\192.168.152.34/DroneData/MatrixSpaceLabeled/05_13_20/Yuneec_Typhoon/2020-05-07-20-27-06/' + di + smb_path + file, val=True)\n",
    "                \n",
    "    print(\"{} training images\".format(train_count))\n",
    "    print(\"{} validation images\".format(val_count))\n",
    "\n",
    "\n",
    "#     print('saving training images...')\n",
    "#     for img in json_data[1000:2600]:\n",
    "#         write_to_YOLO(img)\n",
    "\n",
    "#     print('saving validation images...')\n",
    "#     for img in json_data[2600:3050]:\n",
    "#         write_to_YOLO(img, val=True)\n",
    "\n",
    "#     print('saving testing images...')\n",
    "#     for img in json_data[3050:3450]:\n",
    "#         write_to_YOLO(img, test=True)\n"
   ]
  },
  {
   "cell_type": "code",
   "execution_count": null,
   "id": "lucky-nicaragua",
   "metadata": {
    "scrolled": true,
    "tags": []
   },
   "outputs": [],
   "source": [
    "# import zipfile\n",
    "# with zipfile.ZipFile('labels_thermal.zip', 'r') as zip_ref:\n",
    "#     zip_ref.extractall('labels_thermal')\n",
    "import glob\n",
    "files = glob.glob('labels/labels_05_13_20_multispectral/*.txt')\n",
    "print(len(files))\n",
    "username = input('username:')\n",
    "password = input('password:')\n",
    "smb_path = '/ms_2_images/NIR1/frames/'\n",
    "labels_folder = 'labels/labels_05_13_20_multispectral/'\n",
    "mount_smb(username, password, smb_path, 'yolov3/labels_05_13_20_NIR1', labels_folder, [Path(f).name for f in files[:1600]], [Path(f).name for f in files[1600:]])\n"
   ]
  },
  {
   "cell_type": "code",
   "execution_count": null,
   "id": "southeast-insured",
   "metadata": {
    "scrolled": true,
    "tags": []
   },
   "outputs": [],
   "source": [
    "files = glob.glob('labels/labels_05_13_20_multispectral/*.txt')\n",
    "print(len(files))\n",
    "username = input('username:')\n",
    "password = input('password:')\n",
    "smb_path = '/ms_2_images/NIR2/frames/'\n",
    "labels_folder = 'labels/labels_05_13_20_multispectral/'\n",
    "mount_smb(username, password, smb_path, 'yolov3/labels_05_13_20_NIR2', labels_folder, [Path(f).name for f in files[:1600]], [Path(f).name for f in files[1600:]])"
   ]
  },
  {
   "cell_type": "code",
   "execution_count": null,
   "id": "phantom-latitude",
   "metadata": {
    "scrolled": true,
    "tags": []
   },
   "outputs": [],
   "source": [
    "files = glob.glob('labels/labels_05_13_20_multispectral/*.txt')\n",
    "print(len(files))\n",
    "username = input('username:')\n",
    "password = input('password:')\n",
    "smb_path = '/ms_2_images/NIR3/frames/'\n",
    "labels_folder = 'labels/labels_05_13_20_multispectral/'\n",
    "mount_smb(username, password, smb_path, 'yolov3/labels_05_13_20_NIR3', labels_folder, [Path(f).name for f in files[:1600]], [Path(f).name for f in files[1600:]])"
   ]
  },
  {
   "cell_type": "code",
   "execution_count": 19,
   "id": "adjustable-occurrence",
   "metadata": {},
   "outputs": [
    {
     "name": "stdout",
     "output_type": "stream",
     "text": [
      "1951\n",
      "1600\n",
      "351\n"
     ]
    }
   ],
   "source": [
    "files = glob.glob('labels/labels_05_13_20_multispectral/*.txt')\n",
    "print(len(files))\n",
    "username = input('username:')\n",
    "password = input('password:')\n",
    "smb_path = '/ms_2_images/Red/frames/'\n",
    "labels_folder = 'labels/labels_05_13_20_multispectral/'\n",
    "mount_smb(username, password, smb_path, 'yolov3/labels_05_13_20_RED', labels_folder, [Path(f).name for f in files[:1600]], [Path(f).name for f in files[1600:]])"
   ]
  },
  {
   "cell_type": "code",
   "execution_count": 20,
   "id": "weekly-monkey",
   "metadata": {},
   "outputs": [
    {
     "name": "stdout",
     "output_type": "stream",
     "text": [
      "1951\n",
      "1600\n",
      "351\n"
     ]
    }
   ],
   "source": [
    "files = glob.glob('labels/labels_05_13_20_multispectral/*.txt')\n",
    "print(len(files))\n",
    "username = input('username:')\n",
    "password = input('password:')\n",
    "smb_path = '/ms_2_images/Green/frames/'\n",
    "labels_folder = 'labels/labels_05_13_20_multispectral/'\n",
    "mount_smb(username, password, smb_path, 'yolov3/labels_05_13_20_GREEN', labels_folder, [Path(f).name for f in files[:1600]], [Path(f).name for f in files[1600:]])"
   ]
  },
  {
   "cell_type": "code",
   "execution_count": 22,
   "id": "formal-thumb",
   "metadata": {},
   "outputs": [
    {
     "name": "stdout",
     "output_type": "stream",
     "text": [
      "1951\n",
      "1600 training images\n",
      "351 validation images\n"
     ]
    }
   ],
   "source": [
    "files = glob.glob('labels/labels_05_13_20_multispectral/*.txt')\n",
    "print(len(files))\n",
    "username = input('username:')\n",
    "password = input('password:')\n",
    "smb_path = '/ms_2_images/Blue/frames/'\n",
    "labels_folder = 'labels/labels_05_13_20_multispectral/'\n",
    "mount_smb(username, password, smb_path, 'yolov3/labels_05_13_20_BLUE', labels_folder, [Path(f).name for f in files[:1600]], [Path(f).name for f in files[1600:]])"
   ]
  },
  {
   "cell_type": "code",
   "execution_count": 2,
   "id": "relative-premises",
   "metadata": {},
   "outputs": [],
   "source": [
    "import zipfile\n",
    "with zipfile.ZipFile('labels.zip', 'r') as zip_ref:\n",
    "    zip_ref.extractall('labels')"
   ]
  },
  {
   "cell_type": "code",
   "execution_count": 14,
   "id": "psychological-thompson",
   "metadata": {},
   "outputs": [],
   "source": [
    "import os\n",
    "def clear_dir(directory):\n",
    "    files = glob.glob(directory)\n",
    "    for f in files:\n",
    "        os.remove(f)\n",
    "\n",
    "clear_dir('yolov3/labels_05_13_20_NIR1/images/train/*.tiff')\n",
    "clear_dir('yolov3/labels_05_13_20_NIR1/images/val/*.tiff')\n",
    "clear_dir('yolov3/labels_05_13_20_NIR1/labels/train/*.txt')\n",
    "clear_dir('yolov3/labels_05_13_20_NIR1/labels/val/*.txt')"
   ]
  },
  {
   "cell_type": "code",
   "execution_count": null,
   "id": "spare-simulation",
   "metadata": {},
   "outputs": [],
   "source": []
  }
 ],
 "metadata": {
  "kernelspec": {
   "display_name": "Python 3",
   "language": "python",
   "name": "python3"
  },
  "language_info": {
   "codemirror_mode": {
    "name": "ipython",
    "version": 3
   },
   "file_extension": ".py",
   "mimetype": "text/x-python",
   "name": "python",
   "nbconvert_exporter": "python",
   "pygments_lexer": "ipython3",
   "version": "3.8.8"
  }
 },
 "nbformat": 4,
 "nbformat_minor": 5
}
