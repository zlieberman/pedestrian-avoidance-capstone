{
 "cells": [
  {
   "cell_type": "code",
   "execution_count": 25,
   "id": "homeless-phone",
   "metadata": {},
   "outputs": [],
   "source": [
    "import smbclient\n",
    "import json\n",
    "import cv2\n",
    "from pathlib import Path\n",
    "import numpy as np\n",
    "\n",
    "def mount_smb(username, password, dataset_folder, smb_json_path):\n",
    "    # Optional - specify the default credentials to use on the global config object\n",
    "    smbclient.ClientConfig(username=username, password=password)\n",
    "\n",
    "    # Optional - register the credentials with a server (overrides ClientConfig for that server)\n",
    "    smbclient.register_session(\"192.168.152.34\", username=username, password=password)\n",
    "\n",
    "    with smbclient.open_file(smb_json_path, 'r') as f:\n",
    "        json_data = json.load(f)\n",
    "\n",
    "    base_path = r'\\\\192.168.152.34/DroneData/MatrixSpaceLabeled/'\n",
    "\n",
    "    def write_to_YOLO(img, val=False, test=False):\n",
    "        img_url = img['url']\n",
    "        img_name = Path(img['name']).name\n",
    "\n",
    "        if len(img['labels']) >= 1:\n",
    "            bounding_box = img['labels'][0]['box2d']\n",
    "            (startX, startY, endX, endY) = [bounding_box['x1'], bounding_box['y1'], bounding_box['x2'],\n",
    "                                            bounding_box['y2']]\n",
    "            file_path = base_path + img_url[img_url.find('05_08_20'):]\n",
    "            with smbclient.open_file(file_path, 'rb') as f:\n",
    "                arr = np.asarray(bytearray(f.read()), dtype=np.uint8)\n",
    "                image = cv2.imdecode(arr, -1)\n",
    "                (h, w) = image.shape[:2]\n",
    "\n",
    "                image = cv2.resize(image, (256, 256), interpolation=cv2.INTER_AREA)\n",
    "\n",
    "            x_center = ((endX + startX) / 2) / w\n",
    "            y_center = (endY + startY) / 2 / h\n",
    "            width = (endX - startX) / w\n",
    "            height = (endY - startY) / h\n",
    "            klass = 0\n",
    "\n",
    "            # save the labels\n",
    "            if val:\n",
    "                with open(dataset_folder + '/labels/val/' + img_name.strip('.jpg') + '.txt', 'w+') as f:\n",
    "                    f.write(' '.join([str(i) for i in [klass, x_center, y_center, width, height]]))\n",
    "\n",
    "                # save the images\n",
    "                cv2.imwrite(dataset_folder + '/images/val/' + img_name, image)\n",
    "                \n",
    "            elif test:\n",
    "                with open(dataset_folder + '/labels/test/' + img_name.strip('.jpg') + '.txt', 'w+') as f:\n",
    "                    f.write(' '.join([str(i) for i in [klass, x_center, y_center, width, height]]))\n",
    "\n",
    "                # save the images\n",
    "                cv2.imwrite(dataset_folder + '/images/test/' + img_name, image)\n",
    "                \n",
    "            else:\n",
    "                with open(dataset_folder + '/labels/train/' + img_name.strip('.jpg') + '.txt', 'w+') as f:\n",
    "                    f.write(' '.join([str(i) for i in [klass, x_center, y_center, width, height]]))\n",
    "\n",
    "                # save the images\n",
    "                cv2.imwrite(dataset_folder + '/images/train/' + img_name, image)\n",
    "\n",
    "    print('saving training images...')\n",
    "    for img in json_data[1000:2600]:\n",
    "        write_to_YOLO(img)\n",
    "\n",
    "    print('saving validation images...')\n",
    "    for img in json_data[2600:3050]:\n",
    "        write_to_YOLO(img, val=True)\n",
    "\n",
    "#     print('saving testing images...')\n",
    "#     for img in json_data[3050:3450]:\n",
    "#         write_to_YOLO(img, test=True)\n"
   ]
  },
  {
   "cell_type": "code",
   "execution_count": 9,
   "id": "arbitrary-toddler",
   "metadata": {},
   "outputs": [
    {
     "name": "stdout",
     "output_type": "stream",
     "text": [
      "Requirement already satisfied: smbprotocol in /opt/conda/lib/python3.8/site-packages (1.5.0)\n",
      "Requirement already satisfied: pyspnego in /opt/conda/lib/python3.8/site-packages (from smbprotocol) (0.1.5)\n",
      "Requirement already satisfied: six in /opt/conda/lib/python3.8/site-packages (from smbprotocol) (1.15.0)\n",
      "Requirement already satisfied: cryptography>=2.0 in /opt/conda/lib/python3.8/site-packages (from smbprotocol) (3.4.4)\n",
      "Requirement already satisfied: cffi>=1.12 in /opt/conda/lib/python3.8/site-packages (from cryptography>=2.0->smbprotocol) (1.14.5)\n",
      "Requirement already satisfied: pycparser in /opt/conda/lib/python3.8/site-packages (from cffi>=1.12->cryptography>=2.0->smbprotocol) (2.20)\n"
     ]
    }
   ],
   "source": [
    "!pip install smbprotocol"
   ]
  },
  {
   "cell_type": "code",
   "execution_count": 23,
   "id": "bizarre-password",
   "metadata": {},
   "outputs": [
    {
     "name": "stdout",
     "output_type": "stream",
     "text": [
      "saving training images...\n",
      "saving validation images...\n"
     ]
    }
   ],
   "source": [
    "username = input('username:')\n",
    "password = input('password:')\n",
    "mount_smb(username, password, 'yolov3/video_color_images', r'\\\\192.168.152.34/DroneData/MatrixSpaceLabeled/05_08_20/DJI_Matice_100/2020-05-08-12-41-04-DM-Color_export.json')"
   ]
  },
  {
   "cell_type": "code",
   "execution_count": 21,
   "id": "continuing-service",
   "metadata": {},
   "outputs": [
    {
     "name": "stdout",
     "output_type": "stream",
     "text": [
      "logs  Untitled.ipynb  yolov3  yolov3setup.sh\n",
      "/home/jovyan/workspace\n",
      "python: can't open file 'train.py': [Errno 2] No such file or directory\n"
     ]
    }
   ],
   "source": [
    "!cd yolov3\n",
    "!ls\n",
    "!pwd\n",
    "!python train.py --img 256 --batch 32 --epochs 20 --weights yolov3.pt --data video_color_images.yaml  --nosave"
   ]
  },
  {
   "cell_type": "code",
   "execution_count": 13,
   "id": "apparent-supervisor",
   "metadata": {},
   "outputs": [],
   "source": [
    "import os\n",
    "import glob\n",
    "def clear_dir(directory):\n",
    "    files = glob.glob(directory)\n",
    "    for f in files:\n",
    "        os.remove(f)\n",
    "\n",
    "clear_dir('yolov3/labels_06_03_20_NIR/images/train/*')\n",
    "clear_dir('yolov3/labels_06_03_20_NIR/images/val/*')\n",
    "clear_dir('yolov3/labels_06_03_20_NIR/labels/train/*')\n",
    "clear_dir('yolov3/labels_06_03_20_NIR/labels/val/*')\n",
    "\n",
    "clear_dir('yolov3/labels_05_13_20_NIR/images/train/*')\n",
    "clear_dir('yolov3/labels_05_13_20_NIR/images/val/*')\n",
    "clear_dir('yolov3/labels_05_13_20_NIR/labels/train/*')\n",
    "clear_dir('yolov3/labels_05_13_20_NIR/labels/val/*')"
   ]
  },
  {
   "cell_type": "code",
   "execution_count": 6,
   "id": "blessed-procedure",
   "metadata": {},
   "outputs": [],
   "source": [
    "clear_dir('yolov3/video_color_images/images/*.jpg')"
   ]
  },
  {
   "cell_type": "code",
   "execution_count": 12,
   "id": "peripheral-torture",
   "metadata": {},
   "outputs": [
    {
     "name": "stdout",
     "output_type": "stream",
     "text": [
      "The history saving thread hit an unexpected error (OperationalError('database or disk is full')).History will not be written to the database.\n"
     ]
    }
   ],
   "source": [
    "clear_dir('yolov3/video_color_images/images/train/*')\n",
    "clear_dir('yolov3/video_color_images/images/val/*')\n",
    "clear_dir('yolov3/video_color_images/labels/train/*')\n",
    "clear_dir('yolov3/video_color_images/labels/val/*')"
   ]
  },
  {
   "cell_type": "code",
   "execution_count": null,
   "id": "norwegian-dispatch",
   "metadata": {},
   "outputs": [],
   "source": []
  }
 ],
 "metadata": {
  "kernelspec": {
   "display_name": "Python 3",
   "language": "python",
   "name": "python3"
  },
  "language_info": {
   "codemirror_mode": {
    "name": "ipython",
    "version": 3
   },
   "file_extension": ".py",
   "mimetype": "text/x-python",
   "name": "python",
   "nbconvert_exporter": "python",
   "pygments_lexer": "ipython3",
   "version": "3.8.8"
  }
 },
 "nbformat": 4,
 "nbformat_minor": 5
}
