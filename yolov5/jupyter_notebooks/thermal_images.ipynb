{
 "cells": [
  {
   "cell_type": "code",
   "execution_count": 118,
   "id": "fleet-energy",
   "metadata": {
    "tags": []
   },
   "outputs": [],
   "source": [
    "import smbclient\n",
    "import json\n",
    "import cv2\n",
    "from pathlib import Path\n",
    "import numpy as np\n",
    "import zipfile\n",
    "\n",
    "def write_to_YOLO(dataset_folder, img_url, val=False, test=False):\n",
    "    img_name = Path(img_url).name\n",
    "\n",
    "    with smbclient.open_file(img_url, 'rb') as f:\n",
    "        arr = np.asarray(bytearray(f.read()), dtype=np.uint8)\n",
    "        image = cv2.imdecode(arr, -1)\n",
    "        (h, w) = image.shape[:2]\n",
    "        image = cv2.resize(image, (256, 256), interpolation=cv2.INTER_AREA)\n",
    "\n",
    "    if val:\n",
    "        with open('labels_05_13_20_thermal/labels_05_13_20_thermal/' + img_name.replace('.jpg', '.txt'), 'r') as fd:\n",
    "            data = fd.read()\n",
    "            x,y,width,height = [float(i) for i in data.strip('\\n').strip(' ').split(' ') if i.isdigit()]\n",
    "\n",
    "            x_center = (x + (width / 2 )) / w\n",
    "            y_center = (y + (height / 2)) / h\n",
    "            width = width / w\n",
    "            height = height / h\n",
    "            klass = 0\n",
    "            with open(dataset_folder + '/labels/val/' + img_name.replace('.jpg', '.txt'), 'w+') as f:\n",
    "                f.write(' '.join([str(i) for i in [klass, x_center, y_center, width, height]]))\n",
    "        # save the images\n",
    "        cv2.imwrite(dataset_folder + '/images/val/' + img_name, image)\n",
    "\n",
    "    else:\n",
    "        with open('labels_05_13_20_thermal/labels_05_13_20_thermal/' + img_name.replace('.jpg', '.txt'), 'r') as fd:\n",
    "            data = fd.read()\n",
    "            x,y,width,height = [float(i) for i in data.strip('\\n').strip(' ').split(' ') if i.isdigit()]\n",
    "\n",
    "            x_center = (x + (width / 2 )) / w\n",
    "            y_center = (y + (height / 2)) / h\n",
    "            width = width / w\n",
    "            height = height / h\n",
    "            klass = 0\n",
    "            with open(dataset_folder + '/labels/train/' + img_name.replace('.jpg', '.txt'), 'w+') as f:\n",
    "                f.write(' '.join([str(i) for i in [klass, x_center, y_center, width, height]]))\n",
    "        # save the images\n",
    "        cv2.imwrite(dataset_folder + '/images/train/' + img_name, image)\n",
    "        \n",
    "\n",
    "def mount_smb(username, password, dataset_folder, train_imgs, val_imgs):\n",
    "    # Optional - specify the default credentials to use on the global config object\n",
    "    smbclient.ClientConfig(username=username, password=password)\n",
    "\n",
    "    # Optional - register the credentials with a server (overrides ClientConfig for that server)\n",
    "    smbclient.register_session(\"192.168.152.34\", username=username, password=password)\n",
    "            \n",
    "    train_count = 0\n",
    "    val_count = 0\n",
    "    for root, dirs, files in smbclient.walk(r'\\\\192.168.152.34/DroneData/MatrixSpaceLabeled/05_13_20/Yuneec_Typhoon/2020-05-07-20-27-06/', 'r'):\n",
    "        break\n",
    "    for di in dirs:\n",
    "        for _, _, files in smbclient.walk(r'\\\\192.168.152.34/DroneData/MatrixSpaceLabeled/05_13_20/Yuneec_Typhoon/2020-05-07-20-27-06/' + di + '/thermal_images/frames/'):\n",
    "            break\n",
    "        for file in files:\n",
    "            if file.replace('.jpg', '.txt') in train_imgs:\n",
    "                train_count += 1\n",
    "                write_to_YOLO(dataset_folder, r'\\\\192.168.152.34/DroneData/MatrixSpaceLabeled/05_13_20/Yuneec_Typhoon/2020-05-07-20-27-06/' + di + '/thermal_images/frames/' + file)\n",
    "            elif file.replace('.jpg', '.txt') in val_imgs:\n",
    "                val_count += 1\n",
    "                write_to_YOLO(dataset_folder, r'\\\\192.168.152.34/DroneData/MatrixSpaceLabeled/05_13_20/Yuneec_Typhoon/2020-05-07-20-27-06/' + di + '/thermal_images/frames/' + file, val=True)\n",
    "                \n",
    "    print(train_count)\n",
    "    print(val_count)\n",
    "\n",
    "\n",
    "#     print('saving training images...')\n",
    "#     for img in json_data[1000:2600]:\n",
    "#         write_to_YOLO(img)\n",
    "\n",
    "#     print('saving validation images...')\n",
    "#     for img in json_data[2600:3050]:\n",
    "#         write_to_YOLO(img, val=True)\n",
    "\n",
    "#     print('saving testing images...')\n",
    "#     for img in json_data[3050:3450]:\n",
    "#         write_to_YOLO(img, test=True)\n"
   ]
  },
  {
   "cell_type": "code",
   "execution_count": null,
   "id": "solved-accent",
   "metadata": {},
   "outputs": [],
   "source": []
  },
  {
   "cell_type": "code",
   "execution_count": 119,
   "id": "arbitrary-christopher",
   "metadata": {},
   "outputs": [
    {
     "name": "stdout",
     "output_type": "stream",
     "text": [
      "7441\n",
      "6700\n",
      "741\n"
     ]
    }
   ],
   "source": [
    "# import zipfile\n",
    "# with zipfile.ZipFile('labels_thermal.zip', 'r') as zip_ref:\n",
    "#     zip_ref.extractall('labels_thermal')\n",
    "files = glob.glob('labels_05_13_20_thermal/labels_05_13_20_thermal/*.txt')\n",
    "print(len(files))\n",
    "username = input('username:')\n",
    "password = input('password:')\n",
    "mount_smb(username, password, 'yolov3/labels_05_13_20_thermal', [Path(f).name for f in files[:6700]], [Path(f).name for f in files[6700:]])\n"
   ]
  },
  {
   "cell_type": "code",
   "execution_count": 85,
   "id": "preceding-packet",
   "metadata": {},
   "outputs": [
    {
     "name": "stdout",
     "output_type": "stream",
     "text": [
      "7441\n"
     ]
    }
   ],
   "source": [
    "import glob\n",
    "\n",
    "def unpack_label(file, trainorval):\n",
    "    with open(file, 'r+') as fd:\n",
    "        data = fd.read()\n",
    "        x,y,width,height = [float(i) for i in data.strip('\\n').strip(' ').split(' ') if i.isdigit()]\n",
    "        x_center = (x + width / 2 )\n",
    "        y_center = (y + height / 2)\n",
    "        width = width\n",
    "        height = height\n",
    "        klass = 0\n",
    "\n",
    "    with open('yolov3/thermal_images/labels/' + trainorval + Path(file).name, 'w+') as f:\n",
    "        f.write(' '.join([str(i) for i in [x_center, y_center, width, height]]))\n",
    "    \n",
    "    \n",
    "files = glob.glob('labels_thermal/labels_thermal/*.txt')\n",
    "print(len(files))\n",
    "for file in files[:6700]:\n",
    "    unpack_label(file, 'train/')\n",
    "for file in files[6700:]:\n",
    "    unpack_label(file, 'val/')"
   ]
  },
  {
   "cell_type": "code",
   "execution_count": 64,
   "id": "scientific-kansas",
   "metadata": {},
   "outputs": [
    {
     "data": {
      "text/plain": [
       "'image_5606.txt'"
      ]
     },
     "execution_count": 64,
     "metadata": {},
     "output_type": "execute_result"
    }
   ],
   "source": [
    "Path(files[0]).name"
   ]
  },
  {
   "cell_type": "code",
   "execution_count": 111,
   "id": "buried-hungary",
   "metadata": {},
   "outputs": [],
   "source": [
    "import os\n",
    "def clear_dir(directory):\n",
    "    files = glob.glob(directory)\n",
    "    for f in files:\n",
    "        os.remove(f)\n",
    "\n",
    "clear_dir('yolov3/thermal_images/images/train/*.jpg')\n",
    "clear_dir('yolov3/thermal_images/images/val/*.jpg')\n",
    "clear_dir('yolov3/thermal_images/labels/train/*.txt')\n",
    "clear_dir('yolov3/thermal_images/labels/val/*.txt')"
   ]
  },
  {
   "cell_type": "code",
   "execution_count": 101,
   "id": "developing-transsexual",
   "metadata": {},
   "outputs": [],
   "source": [
    "clear_dir('labels_thermal/labels_thermal/*.txt')"
   ]
  },
  {
   "cell_type": "code",
   "execution_count": 114,
   "id": "successful-stopping",
   "metadata": {},
   "outputs": [],
   "source": [
    "import zipfile\n",
    "with zipfile.ZipFile('labels_05_13_20_thermal.zip', 'r') as zip_ref:\n",
    "    zip_ref.extractall('labels_05_13_20_thermal')"
   ]
  },
  {
   "cell_type": "code",
   "execution_count": null,
   "id": "sharing-observer",
   "metadata": {},
   "outputs": [],
   "source": []
  }
 ],
 "metadata": {
  "kernelspec": {
   "display_name": "Python 3",
   "language": "python",
   "name": "python3"
  },
  "language_info": {
   "codemirror_mode": {
    "name": "ipython",
    "version": 3
   },
   "file_extension": ".py",
   "mimetype": "text/x-python",
   "name": "python",
   "nbconvert_exporter": "python",
   "pygments_lexer": "ipython3",
   "version": "3.8.8"
  }
 },
 "nbformat": 4,
 "nbformat_minor": 5
}
